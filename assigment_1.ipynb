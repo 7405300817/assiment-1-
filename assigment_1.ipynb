{
  "nbformat": 4,
  "nbformat_minor": 0,
  "metadata": {
    "colab": {
      "provenance": []
    },
    "kernelspec": {
      "name": "python3",
      "display_name": "Python 3"
    },
    "language_info": {
      "name": "python"
    }
  },
  "cells": [
    {
      "cell_type": "markdown",
      "source": [
        "  Python Basics practical  Questions\n",
        "\n"
      ],
      "metadata": {
        "id": "igNefwA97chA"
      }
    },
    {
      "cell_type": "markdown",
      "source": [
        "Q1.Write a Python program to print \"Hello, World!y\n",
        "\n"
      ],
      "metadata": {
        "id": "utwk57kEV0MK"
      }
    },
    {
      "cell_type": "code",
      "source": [
        "print(\"hello, world\")"
      ],
      "metadata": {
        "colab": {
          "base_uri": "https://localhost:8080/"
        },
        "id": "_COjB67nV8RI",
        "outputId": "9d38c57c-b193-44da-e2d4-bf0ca7f5c824"
      },
      "execution_count": null,
      "outputs": [
        {
          "output_type": "stream",
          "name": "stdout",
          "text": [
            "hello, world!y\n"
          ]
        }
      ]
    },
    {
      "cell_type": "code",
      "source": [
        "#Q2.Write a Python program that displays your name and age8\n",
        "name =\"amit \"\n",
        "age =\"23\"\n",
        "print(\"Name is \" + name , age )"
      ],
      "metadata": {
        "colab": {
          "base_uri": "https://localhost:8080/"
        },
        "id": "Bqr1hVsxW_uw",
        "outputId": "64dc3807-8980-4276-be3f-5620986828d0"
      },
      "execution_count": 4,
      "outputs": [
        {
          "output_type": "stream",
          "name": "stdout",
          "text": [
            "Name is amit  23\n"
          ]
        }
      ]
    },
    {
      "cell_type": "code",
      "source": [
        "#Q3.Write code to print all the pre-defined keywords in Python using the keyword library\n",
        "import keyword\n",
        "\n",
        "print(keywords)\n",
        "\n"
      ],
      "metadata": {
        "colab": {
          "base_uri": "https://localhost:8080/"
        },
        "id": "Oud1qB5LXrtR",
        "outputId": "77ff5fee-d2ae-4eae-ee44-100d53f42de4"
      },
      "execution_count": null,
      "outputs": [
        {
          "output_type": "stream",
          "name": "stdout",
          "text": [
            "['False', 'None', 'True', 'and', 'as', 'assert', 'async', 'await', 'break', 'class', 'continue', 'def', 'del', 'elif', 'else', 'except', 'finally', 'for', 'from', 'global', 'if', 'import', 'in', 'is', 'lambda', 'nonlocal', 'not', 'or', 'pass', 'raise', 'return', 'try', 'while', 'with', 'yield']\n"
          ]
        }
      ]
    },
    {
      "cell_type": "code",
      "source": [
        "#Q4.Write a program that checks if a given word is a Python keyword.\n",
        "import keyword\n",
        "\n",
        "def is_python_keyword(word):\n",
        "    return keyword.iskeyword(word)\n",
        "\n",
        "# Get user input\n",
        "word = input(\"Enter a word to check if it's a Python keyword: \").strip()\n",
        "\n",
        "# Check if it's a keyword\n",
        "if is_python_keyword(word):\n",
        "    print(f\"'{word}' is a Python keyword.\")\n",
        "else:\n",
        "    print(f\"'{word}' is NOT a Python keyword.\")\n"
      ],
      "metadata": {
        "id": "4yXHJjNpbxjs",
        "colab": {
          "base_uri": "https://localhost:8080/"
        },
        "outputId": "f9ce0d3a-3e97-491a-ce10-c9ac71731103"
      },
      "execution_count": 8,
      "outputs": [
        {
          "output_type": "stream",
          "name": "stdout",
          "text": [
            "Enter a word to check if it's a Python keyword: a\n",
            "'a' is NOT a Python keyword.\n"
          ]
        }
      ]
    },
    {
      "cell_type": "code",
      "source": [
        "#Create a list and tuple in Python, and demonstrate how attempting to change an element works differently for each\n",
        "\n",
        "my_list = [1, 2, 3]\n",
        "my_tuple = (1, 2, 3)\n",
        "\n",
        "print(\"Original list:\", my_list)\n",
        "my_list[0] = 10\n",
        "print(\"Modified list:\", my_list)\n",
        "\n",
        "print(\"Original tuple:\", my_tuple)\n",
        "try:\n",
        "    my_tuple[0] = 10\n",
        "except TypeError as e:\n",
        "    print(\"Error:\", e)\n"
      ],
      "metadata": {
        "colab": {
          "base_uri": "https://localhost:8080/"
        },
        "id": "oug3E9hpcw-6",
        "outputId": "a4b21cb5-2a59-4e32-c343-63301260c769"
      },
      "execution_count": 9,
      "outputs": [
        {
          "output_type": "stream",
          "name": "stdout",
          "text": [
            "Original list: [1, 2, 3]\n",
            "Modified list: [10, 2, 3]\n",
            "Original tuple: (1, 2, 3)\n",
            "Error: 'tuple' object does not support item assignment\n"
          ]
        }
      ]
    },
    {
      "cell_type": "code",
      "source": [
        " #Write a program that performs basic arithmetic operations on two user-input numbers.\n",
        " a = float(input(\"Enter the first number: \"))\n",
        "b = float(input(\"Enter the second number: \"))\n",
        "print(\"Sum:\", a+b, \"Diff:\", a-b, \"Prod:\", a*b)\n",
        "print(\"Div:\", a/b if b != 0 else \"Undefined\", \"Mod:\", a%b)\n",
        "\n"
      ],
      "metadata": {
        "colab": {
          "base_uri": "https://localhost:8080/"
        },
        "id": "uimsQb8adHeh",
        "outputId": "42f70bf7-a1ad-4112-8812-335e0030a3b1"
      },
      "execution_count": 12,
      "outputs": [
        {
          "output_type": "stream",
          "name": "stdout",
          "text": [
            "Enter the first number: 12\n",
            "Enter the second number: 10\n",
            "Sum: 22.0 Diff: 2.0 Prod: 120.0\n",
            "Div: 1.2 Mod: 2.0\n"
          ]
        }
      ]
    },
    {
      "cell_type": "code",
      "source": [
        "#Write a program to demonstrate the use of logical operators\n",
        "age = int(input(\"Enter your age: \"))\n",
        "licensed = input(\"Do you have a driving license? (y/n): \") == \"y\"\n",
        "print(\"Eligible to drive\" if age >= 18 and licensed else \"Not eligible to drive\")\n",
        "print(\"Consider preparing\" if age < 18 or not licensed else \"You're all set!\")\n"
      ],
      "metadata": {
        "colab": {
          "base_uri": "https://localhost:8080/"
        },
        "id": "WlLwnVUTdU12",
        "outputId": "6dc0eedb-78a7-4e2b-d87c-2416533f1dc3"
      },
      "execution_count": 15,
      "outputs": [
        {
          "output_type": "stream",
          "name": "stdout",
          "text": [
            "Enter your age: 20\n",
            "Do you have a driving license? (y/n): n\n",
            "Not eligible to drive\n",
            "Consider preparing\n"
          ]
        }
      ]
    },
    {
      "cell_type": "code",
      "source": [
        "user_input = input(\"Enter a value: \")\n",
        "num_int = int(user_input)\n",
        "num_float = float(user_input)\n",
        "bool_val = bool(num_int)\n",
        "\n",
        "print(\"Integer:\", num_int)\n",
        "print(\"Float:\", num_float)\n",
        "print(\"Boolean:\", bool_val)\n"
      ],
      "metadata": {
        "colab": {
          "base_uri": "https://localhost:8080/"
        },
        "id": "7CBGXqSZgQEO",
        "outputId": "45b25e25-451b-405a-ed36-817485c7a6ab"
      },
      "execution_count": 17,
      "outputs": [
        {
          "output_type": "stream",
          "name": "stdout",
          "text": [
            "Enter a value: 22\n",
            "Integer: 22\n",
            "Float: 22.0\n",
            "Boolean: True\n"
          ]
        }
      ]
    },
    {
      "cell_type": "code",
      "source": [
        "# Write code to demonstrate type casting with list elements.\n",
        "lst = [\"10\", \"20\", \"0\", \"30\"]\n",
        "ints = list(map(int, lst))\n",
        "floats = list(map(float, lst))\n",
        "bools = list(map(lambda x: bool(int(x)), lst))\n",
        "print(ints, floats, bools)\n"
      ],
      "metadata": {
        "colab": {
          "base_uri": "https://localhost:8080/"
        },
        "id": "SHLp5vkGg9HV",
        "outputId": "f715fe90-b2c2-4e96-9f3e-2958822a160f"
      },
      "execution_count": 18,
      "outputs": [
        {
          "output_type": "stream",
          "name": "stdout",
          "text": [
            "[10, 20, 0, 30] [10.0, 20.0, 0.0, 30.0] [True, True, False, True]\n"
          ]
        }
      ]
    },
    {
      "cell_type": "code",
      "source": [
        "#Write a program that checks if a number is positive, negative, or zero.\n",
        "num = float(input(\"Enter a number: \"))\n",
        "if num > 0:\n",
        "    print(\"Positive\")\n",
        "elif num < 0:\n",
        "    print(\"Negative\")\n",
        "else:\n",
        "    print(\"Zero\")\n"
      ],
      "metadata": {
        "colab": {
          "base_uri": "https://localhost:8080/"
        },
        "id": "WRYk7erKhG7l",
        "outputId": "8dd55879-7fae-4835-be47-b0b33b27ab05"
      },
      "execution_count": 20,
      "outputs": [
        {
          "output_type": "stream",
          "name": "stdout",
          "text": [
            "Enter a number: -2\n",
            "Negative\n"
          ]
        }
      ]
    },
    {
      "cell_type": "code",
      "source": [
        "#Write a for loop to print numbers from 1 to 10.\n",
        "for num in range(1, 11):\n",
        "    print(num)\n"
      ],
      "metadata": {
        "colab": {
          "base_uri": "https://localhost:8080/"
        },
        "id": "hPNJek4phf1f",
        "outputId": "77160ee8-bd6a-496f-bf6e-4168ef24d8e9"
      },
      "execution_count": 21,
      "outputs": [
        {
          "output_type": "stream",
          "name": "stdout",
          "text": [
            "1\n",
            "2\n",
            "3\n",
            "4\n",
            "5\n",
            "6\n",
            "7\n",
            "8\n",
            "9\n",
            "10\n"
          ]
        }
      ]
    },
    {
      "cell_type": "code",
      "source": [
        "#Write a Python program to find the sum of all even numbers between 1 and 50.\n",
        "sum_even = sum(range(2, 51, 2))\n",
        "print(\"Sum of even numbers from 1 to 50:\", sum_even)\n"
      ],
      "metadata": {
        "colab": {
          "base_uri": "https://localhost:8080/"
        },
        "id": "kVKZqvUYkVXy",
        "outputId": "58bca334-c5c9-4f74-b4ec-0fd0e38c27ec"
      },
      "execution_count": 22,
      "outputs": [
        {
          "output_type": "stream",
          "name": "stdout",
          "text": [
            "Sum of even numbers from 1 to 50: 650\n"
          ]
        }
      ]
    },
    {
      "cell_type": "code",
      "source": [
        "#Write a program to reverse a string using a while loop.\n",
        "s = input(\"Enter a string: \")\n",
        "rev = \"\"\n",
        "i = len(s) - 1\n",
        "\n",
        "while i >= 0:\n",
        "    rev += s[i]\n",
        "    i -= 1\n",
        "\n",
        "print(\"Reversed string:\", rev)\n"
      ],
      "metadata": {
        "colab": {
          "base_uri": "https://localhost:8080/"
        },
        "id": "AKuqqMpEuAOd",
        "outputId": "511499dd-b117-4bfb-8655-55a2469109cb"
      },
      "execution_count": 25,
      "outputs": [
        {
          "output_type": "stream",
          "name": "stdout",
          "text": [
            "Enter a string: ajjajaj\n",
            "Reversed string: jajajja\n"
          ]
        }
      ]
    },
    {
      "cell_type": "code",
      "source": [
        "#Write a Python program to calculate the factorial of a number provided by the user using a while loop.\n",
        "num = int(input(\"Enter a number: \"))\n",
        "factorial = 1\n",
        "i = 1\n",
        "\n",
        "while i <= num:\n",
        "    factorial *= i\n",
        "    i += 1\n",
        "\n",
        "print(f\"The factorial of {num} is {factorial}\")\n"
      ],
      "metadata": {
        "id": "pM50L_VGuIZI"
      },
      "execution_count": null,
      "outputs": []
    }
  ]
}